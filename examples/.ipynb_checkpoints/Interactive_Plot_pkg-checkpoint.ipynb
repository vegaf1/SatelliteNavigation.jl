{
 "cells": [
  {
   "cell_type": "code",
   "execution_count": 1,
   "id": "970d2c06",
   "metadata": {},
   "outputs": [
    {
     "name": "stderr",
     "output_type": "stream",
     "text": [
      "┌ Info: Precompiling SatelliteNavigation [1cf4fc03-7a0c-4965-81e2-4235e980ef58]\n",
      "└ @ Base loading.jl:1342\n"
     ]
    },
    {
     "data": {
      "application/vnd.webio.node+json": {
       "children": [],
       "instanceArgs": {
        "namespace": "html",
        "tag": "div"
       },
       "nodeType": "DOM",
       "props": {},
       "type": "node"
      },
      "text/html": [
       "<div style=\"padding: 1em; background-color: #f8d6da; border: 1px solid #f5c6cb; font-weight: bold;\">\n",
       "<p>The WebIO Jupyter extension was not detected. See the\n",
       "<a href=\"https://juliagizmos.github.io/WebIO.jl/latest/providers/ijulia/\" target=\"_blank\">\n",
       "    WebIO Jupyter integration documentation\n",
       "</a>\n",
       "for more information.\n",
       "</div>\n"
      ],
      "text/plain": [
       "WebIO._IJuliaInit()"
      ]
     },
     "metadata": {
      "application/vnd.webio.node+json": {
       "kernelId": "edb65a0e-b9c4-4b1f-8c1a-6eb6bca7893d"
      }
     },
     "output_type": "display_data"
    }
   ],
   "source": [
    "import SatelliteNavigation as SN\n",
    "using GLMakie\n",
    "using FileIO\n",
    "using Colors\n",
    "using SatelliteDynamics"
   ]
  },
  {
   "cell_type": "code",
   "execution_count": 2,
   "id": "fff905c1",
   "metadata": {},
   "outputs": [
    {
     "data": {
      "text/plain": [
       "4.0e8"
      ]
     },
     "execution_count": 2,
     "metadata": {},
     "output_type": "execute_result"
    }
   ],
   "source": [
    "# #Initialize Constants\n",
    "# const G = 6.67430e-20 #km**3/(kg * s**2)\n",
    "# const m_1 = 5.97219e24 #mass of the Earth in kg\n",
    "# const m_2 = 1 #mass of satellite in kg\n",
    "# const μ = G*m_1 #gravitational parameter\n",
    "# const R_earth = 6378.12 # radius of Earth in km\n",
    "# const h = 1 #time step in seconds\n",
    "# const hi = 350e3 #in meters. Altitude of ionosphere thin shell approx.\n",
    "\n",
    "f1 = 400e6 #in Hz"
   ]
  },
  {
   "cell_type": "code",
   "execution_count": 3,
   "id": "42e68561",
   "metadata": {},
   "outputs": [
    {
     "data": {
      "text/plain": [
       "SatelliteNavigation.Doppler_units(6378.1363, 212.75172639599893, 29.9792458, 10000.0)"
      ]
     },
     "execution_count": 3,
     "metadata": {},
     "output_type": "execute_result"
    }
   ],
   "source": [
    "toa_units = SN.TOA_units()\n",
    "doppler_units = SN.Doppler_units()"
   ]
  },
  {
   "cell_type": "code",
   "execution_count": 4,
   "id": "12f80d3f",
   "metadata": {},
   "outputs": [],
   "source": [
    "#Initialize tag latitude\n",
    "initial_tag_latitude = 0\n",
    "r0, r0_scaled_TOA, r0_scaled_Doppler = SN.tag_xyz(initial_tag_latitude, toa_units, doppler_units)\n",
    "\n",
    "#Load the image of the Earth\n",
    "earth = load(download(\"https://svs.gsfc.nasa.gov/vis/a000000/a002900/a002915/bluemarble-2048.png\"));"
   ]
  },
  {
   "cell_type": "code",
   "execution_count": 5,
   "id": "1b1e5e02",
   "metadata": {},
   "outputs": [
    {
     "data": {
      "text/plain": [
       "3×3 Matrix{Float64}:\n",
       " 0.0  0.0  0.0\n",
       " 0.0  0.0  0.0\n",
       " 0.0  0.0  0.0"
      ]
     },
     "execution_count": 5,
     "metadata": {},
     "output_type": "execute_result"
    }
   ],
   "source": [
    "#variables to save the final covariance\n",
    "pose_covariance_result_TOA= zeros(3,3)\n",
    "\n",
    "pose_covariance_result_Doppler= zeros(3,3)"
   ]
  },
  {
   "cell_type": "code",
   "execution_count": 6,
   "id": "98aea28b",
   "metadata": {},
   "outputs": [
    {
     "data": {
      "text/plain": [
       "GridSubposition(GridPosition(GridLayout[1, 1] (1 children), GridLayoutBase.Span(1:1, 2:2), GridLayoutBase.Inner()), 2, 1, GridLayoutBase.Inner())"
      ]
     },
     "execution_count": 6,
     "metadata": {},
     "output_type": "execute_result"
    }
   ],
   "source": [
    "#Plot the Earth\n",
    "#this was command before, now its saying unknown 3f0?\n",
    "#fig, ax, earth = mesh(Sphere(Point3f0(0), 6371f0), color= earth, figure = (resolution = (1200,1200),))\n",
    "fig, ax, earth = mesh(Sphere(Point3f(0), 6371f0), color= earth, figure = (resolution = (1200,1200),))\n",
    "\n",
    "\n",
    "#Chooses the part of the figure to put all the sliders\n",
    "parameters_fig = fig[1,2]\n",
    "\n",
    "#Chooses the part of the figure to put the covariance ellipses\n",
    "ellipse_fig = parameters_fig[2,1]"
   ]
  },
  {
   "cell_type": "code",
   "execution_count": 7,
   "id": "8e71ec83",
   "metadata": {},
   "outputs": [],
   "source": [
    "#Start the simulation at this configuration\n",
    "\n",
    "trueanom = 10\n",
    "RAAN_sep = 2\n",
    "delta_sep = 3\n",
    "altitude = 1200\n",
    "\n",
    "#initial\n",
    "eci_1_s, eci_2_s, eci_3_s, eci_4_s, guess_s = SN.orbit_update(trueanom, RAAN_sep, delta_sep, altitude);"
   ]
  },
  {
   "cell_type": "code",
   "execution_count": 8,
   "id": "271ea5c4",
   "metadata": {},
   "outputs": [
    {
     "data": {
      "application/vnd.webio.node+json": {
       "children": [
        {
         "children": [],
         "instanceArgs": {
          "namespace": "html",
          "tag": "div"
         },
         "nodeType": "DOM",
         "props": {
          "className": "webio-observable",
          "setInnerHtml": "<pre>1.0</pre>"
         },
         "type": "node"
        }
       ],
       "instanceArgs": {
        "handlers": {
         "obs-output": [
          "function (value, scope) {\n    scope.setInnerHTML(value);\n}\n"
         ]
        },
        "id": "1955131556386400448",
        "imports": {
         "data": [],
         "type": "async_block"
        },
        "mount_callbacks": [],
        "observables": {
         "obs-output": {
          "id": "7346816814698117246",
          "sync": true,
          "value": "<pre>1.0</pre>"
         }
        },
        "systemjs_options": null
       },
       "nodeType": "Scope",
       "props": {},
       "type": "node"
      },
      "text/html": [
       "<div\n",
       "    class=\"webio-mountpoint\"\n",
       "    data-webio-mountpoint=\"14062655247154547243\"\n",
       ">\n",
       "    <script>\n",
       "    (function(){\n",
       "    // Some integrations (namely, IJulia/Jupyter) use an alternate render pathway than\n",
       "    // just putting the html on the page. If WebIO isn't defined, then it's pretty likely\n",
       "    // that we're in one of those situations and the integration just isn't installed\n",
       "    // correctly.\n",
       "    if (typeof window.WebIO === \"undefined\") {\n",
       "        document\n",
       "            .querySelector('[data-webio-mountpoint=\"14062655247154547243\"]')\n",
       "            .innerHTML = (\n",
       "                '<div style=\"padding: 1em; background-color: #f8d6da; border: 1px solid #f5c6cb; font-weight: bold;\">' +\n",
       "                '<p><strong>WebIO not detected.</strong></p>' +\n",
       "                '<p>Please read ' +\n",
       "                '<a href=\"https://juliagizmos.github.io/WebIO.jl/latest/troubleshooting/not-detected/\" target=\"_blank\">the troubleshooting guide</a> ' +\n",
       "                'for more information on how to resolve this issue.</p>' +\n",
       "                '<p><a href=\"https://juliagizmos.github.io/WebIO.jl/latest/troubleshooting/not-detected/\" target=\"_blank\">https://juliagizmos.github.io/WebIO.jl/latest/troubleshooting/not-detected/</a></p>' +\n",
       "                '</div>'\n",
       "            );\n",
       "        return;\n",
       "    }\n",
       "    WebIO.mount(\n",
       "        document.querySelector('[data-webio-mountpoint=\"14062655247154547243\"]'),\n",
       "        {\"props\":{},\"nodeType\":\"Scope\",\"type\":\"node\",\"instanceArgs\":{\"imports\":{\"data\":[],\"type\":\"async_block\"},\"id\":\"1652414354395166182\",\"handlers\":{\"obs-output\":[\"function (value, scope) {\\n    scope.setInnerHTML(value);\\n}\\n\"]},\"systemjs_options\":null,\"mount_callbacks\":[],\"observables\":{\"obs-output\":{\"sync\":true,\"id\":\"5281060170048478219\",\"value\":\"<pre>1.0<\\/pre>\"}}},\"children\":[{\"props\":{\"className\":\"webio-observable\",\"setInnerHtml\":\"<pre>1.0<\\/pre>\"},\"nodeType\":\"DOM\",\"type\":\"node\",\"instanceArgs\":{\"namespace\":\"html\",\"tag\":\"div\"},\"children\":[]}]},\n",
       "        window,\n",
       "    );\n",
       "    })()\n",
       "    </script>\n",
       "</div>\n"
      ],
      "text/plain": [
       "Observable{Float64} with 0 listeners. Value:\n",
       "1.0"
      ]
     },
     "execution_count": 8,
     "metadata": {
      "application/vnd.webio.node+json": {
       "kernelId": "edb65a0e-b9c4-4b1f-8c1a-6eb6bca7893d"
      }
     },
     "output_type": "execute_result"
    }
   ],
   "source": [
    "#Define all the Observables (values that change once the sliders are changed)\n",
    "\n",
    "freq_offset = Observable(200)\n",
    "\n",
    "#Print the PDOP\n",
    "PDOP_TOA_text = Observable(\"test\")\n",
    "PDOP_Doppler_text = Observable(\"test\")\n",
    "\n",
    "#tag latitude\n",
    "tag_lat = Observable(0)\n",
    "#tag xyz in km\n",
    "#this was command before, now its saying unknown 3f0?\n",
    "#tag_xyzt = Observable(Point3f0(r0[1:3]))\n",
    "tag_xyzt = Observable(Point3f(r0[1:3]))\n",
    "\n",
    "\n",
    "#Where along the orbit is the constellation\n",
    "along = Observable(Int(1))\n",
    "\n",
    "#Ellipse x and y for East North direction for TOA case\n",
    "ellipse_xy1_TOA = Observable(zeros(629))\n",
    "ellipse_xy2_TOA = Observable(zeros(629))\n",
    "\n",
    "#Ellipse x and y for East North direction for TOA case\n",
    "ellipse_xz1_TOA = Observable(zeros(629))\n",
    "ellipse_xz2_TOA = Observable(zeros(629))\n",
    "\n",
    "#Ellipse x and y for East North direction for TOA case\n",
    "ellipse_yz1_TOA = Observable(zeros(629))\n",
    "ellipse_yz2_TOA = Observable(zeros(629))\n",
    "\n",
    "#Ellipse x and y for East North direction for Doppler case\n",
    "ellipse_xy1_Doppler = Observable(zeros(629))\n",
    "ellipse_xy2_Doppler = Observable(zeros(629))\n",
    "\n",
    "#Ellipse x and y for East North direction for Doppler case\n",
    "ellipse_xz1_Doppler = Observable(zeros(629))\n",
    "ellipse_xz2_Doppler = Observable(zeros(629))\n",
    "\n",
    "#Ellipse x and y for East North direction for Doppler case\n",
    "ellipse_yz1_Doppler = Observable(zeros(629))\n",
    "ellipse_yz2_Doppler = Observable(zeros(629))\n",
    "\n",
    "#orbit x values\n",
    "eci_1_x = Observable(eci_1_s[1,:])\n",
    "eci_2_x = Observable(eci_2_s[1,:])\n",
    "eci_3_x = Observable(eci_3_s[1,:])\n",
    "eci_4_x = Observable(eci_4_s[1,:])\n",
    "\n",
    "#orbit y values\n",
    "eci_1_y = Observable(eci_1_s[2,:])\n",
    "eci_2_y = Observable(eci_2_s[2,:])\n",
    "eci_3_y = Observable(eci_3_s[2,:])\n",
    "eci_4_y = Observable(eci_4_s[2,:])\n",
    "\n",
    "#orbit z values\n",
    "eci_1_z = Observable(eci_1_s[3,:])\n",
    "eci_2_z = Observable(eci_2_s[3,:])\n",
    "eci_3_z = Observable(eci_3_s[3,:])\n",
    "eci_4_z = Observable(eci_4_s[3,:])\n",
    "\n",
    "#satellite positions\n",
    "#this was command before, now its saying unknown 3f0?\n",
    "# sats = Observable([Point3f0(eci_1_s[1,1],eci_1_s[2,1],eci_1_s[3,1]), \n",
    "#                    Point3f0(eci_2_s[1,1],eci_2_s[2,1],eci_2_s[3,1]),\n",
    "#                    Point3f0(eci_3_s[1,1],eci_3_s[2,1],eci_3_s[3,1]),\n",
    "#                    Point3f0(eci_4_s[1,1],eci_4_s[2,1],eci_4_s[3,1])])\n",
    "sats = Observable([Point3f(eci_1_s[1,1],eci_1_s[2,1],eci_1_s[3,1]), \n",
    "                   Point3f(eci_2_s[1,1],eci_2_s[2,1],eci_2_s[3,1]),\n",
    "                   Point3f(eci_3_s[1,1],eci_3_s[2,1],eci_3_s[3,1]),\n",
    "                   Point3f(eci_4_s[1,1],eci_4_s[2,1],eci_4_s[3,1])])\n",
    "\n",
    "\n",
    "#Initial guess\n",
    "#this was command before, now its saying unknown 3f0?\n",
    "#guess = Observable(Point3f0(eci_1_s[1,1],eci_1_s[2,1],eci_1_s[3,1]))\n",
    "guess = Observable(Point3f(eci_1_s[1,1],eci_1_s[2,1],eci_1_s[3,1]))\n",
    "\n",
    "\n",
    "#Timing accuracy and frequency accuracy\n",
    "timing_accuracy= Observable(10.0)\n",
    "frequency_accuracy = Observable(1.0)\n",
    "\n",
    "#time_range = [1e-12, 1e-11, 1e-10]\n",
    "#freq_range = [1e-6, 1e-5, 1e-4] \n"
   ]
  },
  {
   "cell_type": "code",
   "execution_count": 9,
   "id": "f6d11f10",
   "metadata": {},
   "outputs": [
    {
     "name": "stderr",
     "output_type": "stream",
     "text": [
      "┌ Warning: labelslidergrid! is deprecated and will be removed in the future. Use SliderGrid instead.\n",
      "│   caller = ip:0x0\n",
      "└ @ Core :-1\n"
     ]
    },
    {
     "data": {
      "text/plain": [
       "GridLayout[1:9, 1:3] with 27 children\n",
       " ┣━ [1, 1] Label\n",
       " ┣━ [1, 2] Slider\n",
       " ┣━ [1, 3] Label\n",
       " ┣━ [2, 1] Label\n",
       " ┣━ [2, 2] Slider\n",
       " ┣━ [2, 3] Label\n",
       " ┣━ [3, 1] Label\n",
       " ┣━ [3, 2] Slider\n",
       " ┣━ [3, 3] Label\n",
       " ┣━ [4, 1] Label\n",
       " ┣━ [4, 2] Slider\n",
       " ┣━ [4, 3] Label\n",
       " ┣━ [5, 1] Label\n",
       " ┣━ [5, 2] Slider\n",
       " ┣━ [5, 3] Label\n",
       " ┣━ [6, 1] Label\n",
       " ┣━ [6, 2] Slider\n",
       " ┣━ [6, 3] Label\n",
       " ┣━ [7, 1] Label\n",
       " ┣━ [7, 2] Slider\n",
       " ┣━ [7, 3] Label\n",
       " ┣━ [8, 1] Label\n",
       " ┣━ [8, 2] Slider\n",
       " ┣━ [8, 3] Label\n",
       " ┣━ [9, 1] Label\n",
       " ┣━ [9, 2] Slider\n",
       " ┗━ [9, 3] Label\n"
      ]
     },
     "execution_count": 9,
     "metadata": {},
     "output_type": "execute_result"
    }
   ],
   "source": [
    "#Add in the sliders\n",
    "lsgrid = labelslidergrid!(\n",
    "    fig,\n",
    "    [\"Orbit Altitude\", \"RAAN Seperation\", \"True Anomaly Seperation\", \"Delta True Anomaly Seperation\", \"Time Step \", \"Time Accuracy\", \"Frequency Accuracy\", \"Tag Latitude\", \"Frequency Offset\"],\n",
    "    #[400:100:1200, 1:1:5, 1:0.5:15, 1:1:5, 1:10:1000, -12:1:-6, -6:1:1, 0:10:70, 50:50:500];\n",
    "    [400:100:1200, 1:1:5, 1:0.5:15, 1:1:5, 1:10:1000, 10:10:100, 100:100:1000, 0:10:70, 50:50:500];\n",
    "    formats = [x -> \"$(round(x, digits = 1))$s\" for s in [\"km\", \"Degrees\", \"Degrees\", \"Degrees\", \" \", \"ns\", \"mHz\", \"Degrees\", \"Hz\"]],\n",
    "    width = 500,\n",
    "    tellheight = false)\n",
    "\n",
    "#Placement for the sliders\n",
    "parameters_fig[1,1] = lsgrid.layout"
   ]
  },
  {
   "cell_type": "code",
   "execution_count": 10,
   "id": "0dc9c57b",
   "metadata": {},
   "outputs": [
    {
     "name": "stdout",
     "output_type": "stream",
     "text": [
      "Not in the horizon\n"
     ]
    },
    {
     "data": {
      "application/vnd.webio.node+json": {
       "children": [
        {
         "children": [],
         "instanceArgs": {
          "namespace": "html",
          "tag": "div"
         },
         "nodeType": "DOM",
         "props": {
          "className": "webio-observable",
          "setInnerHtml": "<pre>3-element Vector{Float64}:\n -5871.149043194544\n -1550.5668981180745\n -1950.8928206914102</pre>"
         },
         "type": "node"
        }
       ],
       "instanceArgs": {
        "handlers": {
         "obs-output": [
          "function (value, scope) {\n    scope.setInnerHTML(value);\n}\n"
         ]
        },
        "id": "17762586781780394378",
        "imports": {
         "data": [],
         "type": "async_block"
        },
        "mount_callbacks": [],
        "observables": {
         "obs-output": {
          "id": "1994632265439627958",
          "sync": true,
          "value": "<pre>3-element Vector{Float64}:\n -5871.149043194544\n -1550.5668981180745\n -1950.8928206914102</pre>"
         }
        },
        "systemjs_options": null
       },
       "nodeType": "Scope",
       "props": {},
       "type": "node"
      },
      "text/html": [
       "<div\n",
       "    class=\"webio-mountpoint\"\n",
       "    data-webio-mountpoint=\"7442625812341256861\"\n",
       ">\n",
       "    <script>\n",
       "    (function(){\n",
       "    // Some integrations (namely, IJulia/Jupyter) use an alternate render pathway than\n",
       "    // just putting the html on the page. If WebIO isn't defined, then it's pretty likely\n",
       "    // that we're in one of those situations and the integration just isn't installed\n",
       "    // correctly.\n",
       "    if (typeof window.WebIO === \"undefined\") {\n",
       "        document\n",
       "            .querySelector('[data-webio-mountpoint=\"7442625812341256861\"]')\n",
       "            .innerHTML = (\n",
       "                '<div style=\"padding: 1em; background-color: #f8d6da; border: 1px solid #f5c6cb; font-weight: bold;\">' +\n",
       "                '<p><strong>WebIO not detected.</strong></p>' +\n",
       "                '<p>Please read ' +\n",
       "                '<a href=\"https://juliagizmos.github.io/WebIO.jl/latest/troubleshooting/not-detected/\" target=\"_blank\">the troubleshooting guide</a> ' +\n",
       "                'for more information on how to resolve this issue.</p>' +\n",
       "                '<p><a href=\"https://juliagizmos.github.io/WebIO.jl/latest/troubleshooting/not-detected/\" target=\"_blank\">https://juliagizmos.github.io/WebIO.jl/latest/troubleshooting/not-detected/</a></p>' +\n",
       "                '</div>'\n",
       "            );\n",
       "        return;\n",
       "    }\n",
       "    WebIO.mount(\n",
       "        document.querySelector('[data-webio-mountpoint=\"7442625812341256861\"]'),\n",
       "        {\"props\":{},\"nodeType\":\"Scope\",\"type\":\"node\",\"instanceArgs\":{\"imports\":{\"data\":[],\"type\":\"async_block\"},\"id\":\"8384557035659854912\",\"handlers\":{\"obs-output\":[\"function (value, scope) {\\n    scope.setInnerHTML(value);\\n}\\n\"]},\"systemjs_options\":null,\"mount_callbacks\":[],\"observables\":{\"obs-output\":{\"sync\":true,\"id\":\"3089039889646526265\",\"value\":\"<pre>3-element Vector{Float64}:\\n -5871.149043194544\\n -1550.5668981180745\\n -1950.8928206914102<\\/pre>\"}}},\"children\":[{\"props\":{\"className\":\"webio-observable\",\"setInnerHtml\":\"<pre>3-element Vector{Float64}:\\n -5871.149043194544\\n -1550.5668981180745\\n -1950.8928206914102<\\/pre>\"},\"nodeType\":\"DOM\",\"type\":\"node\",\"instanceArgs\":{\"namespace\":\"html\",\"tag\":\"div\"},\"children\":[]}]},\n",
       "        window,\n",
       "    );\n",
       "    })()\n",
       "    </script>\n",
       "</div>\n"
      ],
      "text/plain": [
       "Observable{Vector{Float64}} with 0 listeners. Value:\n",
       "[-5871.149043194544, -1550.5668981180745, -1950.8928206914102]"
      ]
     },
     "execution_count": 10,
     "metadata": {
      "application/vnd.webio.node+json": {
       "kernelId": "edb65a0e-b9c4-4b1f-8c1a-6eb6bca7893d"
      }
     },
     "output_type": "execute_result"
    }
   ],
   "source": [
    "#Records the change in each slider and updates the values\n",
    "sliderobservables = [s.value for s in lsgrid.sliders]\n",
    "bars = lift(sliderobservables...) do slvalues...\n",
    "    values = [slvalues...]\n",
    "    altitude = values[1]\n",
    "    RAAN_sep = values[2]\n",
    "    true_anom = values[3]\n",
    "    delta_true_anom = values[4]\n",
    "    alongorbit = values[5]\n",
    "    time_acc = values[6]\n",
    "    freq_acc = values[7]\n",
    "    tag_latitude = values[8]\n",
    "    f2_observable = values[9]\n",
    "    \n",
    "    #update the orbit based off of the updated parameters\n",
    "    eci_1_update, eci_2_update, eci_3_update, eci_4_update, xyz_ = SN.orbit_update(true_anom, RAAN_sep, delta_true_anom, altitude);\n",
    "    \n",
    "    #println(\"this is tag_latitude: \", tag_latitude)\n",
    "    r0_tag_update, r0_scaled_TOA_update, r0_scaled_Doppler_update = SN.tag_xyz(tag_latitude, toa_units, doppler_units)\n",
    "    \n",
    "    #update the observables\n",
    "    \n",
    "    tag_xyzt[] = r0_tag_update[1:3]\n",
    "    \n",
    "    eci_1_x[] = eci_1_update[1,:]\n",
    "    eci_2_x[] = eci_2_update[1,:]\n",
    "    eci_3_x[] = eci_3_update[1,:]\n",
    "    eci_4_x[] = eci_4_update[1,:]\n",
    "    \n",
    "    eci_1_y[] = eci_1_update[2,:]\n",
    "    eci_2_y[] = eci_2_update[2,:]\n",
    "    eci_3_y[] = eci_3_update[2,:]\n",
    "    eci_4_y[] = eci_4_update[2,:]\n",
    "    \n",
    "    eci_1_z[] = eci_1_update[3,:]\n",
    "    eci_2_z[] = eci_2_update[3,:]\n",
    "    eci_3_z[] = eci_3_update[3,:]\n",
    "    eci_4_z[] = eci_4_update[3,:]\n",
    "    \n",
    "    \n",
    "    timing_accuracy[] = time_acc\n",
    "    frequency_accuracy[] = freq_acc\n",
    "    tag_lat[] = tag_latitude\n",
    "    \n",
    "    freq_offset[] = f2_observable\n",
    "    \n",
    "    along[] = alongorbit \n",
    "    \n",
    "    intorbit = Int(alongorbit)\n",
    "    \n",
    "    #sat_poses is in km\n",
    "    sat_poses = [eci_1_update[1,intorbit] eci_1_update[2,intorbit] eci_1_update[3,intorbit]; \n",
    "                 eci_2_update[1,intorbit] eci_2_update[2,intorbit] eci_2_update[3,intorbit];\n",
    "                 eci_3_update[1,intorbit] eci_3_update[2,intorbit] eci_3_update[3,intorbit];\n",
    "                 eci_4_update[1,intorbit] eci_4_update[2,intorbit] eci_4_update[3,intorbit]]\n",
    "    \n",
    "    sat_poses2 = [eci_1_update[1,intorbit+1] eci_1_update[2,intorbit+1] eci_1_update[3,intorbit+1]; \n",
    "                 eci_2_update[1,intorbit+1] eci_2_update[2,intorbit+1] eci_2_update[3,intorbit+1];\n",
    "                 eci_3_update[1,intorbit+1] eci_3_update[2,intorbit+1] eci_3_update[3,intorbit+1];\n",
    "                 eci_4_update[1,intorbit+1] eci_4_update[2,intorbit+1] eci_4_update[3,intorbit+1]]\n",
    "    \n",
    "    sat_velocity = [eci_1_update[4,intorbit] eci_1_update[5,intorbit] eci_1_update[6,intorbit]; \n",
    "                 eci_2_update[4,intorbit] eci_2_update[5,intorbit] eci_2_update[6,intorbit];\n",
    "                 eci_3_update[4,intorbit] eci_3_update[5,intorbit] eci_3_update[6,intorbit];\n",
    "                 eci_4_update[4,intorbit] eci_4_update[5,intorbit] eci_4_update[6,intorbit]]\n",
    "    \n",
    "    #scale the sat poses and velocities\n",
    "    pose1 = [sat_poses[1,:]'/doppler_units.distance_scale sat_velocity[1,:]'/doppler_units.velocity_scale]\n",
    "    pose2 = [sat_poses[2,:]'/doppler_units.distance_scale sat_velocity[2,:]'/doppler_units.velocity_scale]\n",
    "    pose3 = [sat_poses[3,:]'/doppler_units.distance_scale sat_velocity[3,:]'/doppler_units.velocity_scale]\n",
    "    pose4 = [sat_poses[4,:]'/doppler_units.distance_scale sat_velocity[4,:]'/doppler_units.velocity_scale]\n",
    "    \n",
    "    zenith_angles = SN.zenith(sat_poses*1e3, r0[1:3]*1e3, 4) #last argument is number of sats\n",
    "    zenith_angles2 = SN.zenith(sat_poses2*1e3, r0[1:3]*1e3, 4)\n",
    "    \n",
    "    zdot = zenith_angles - zenith_angles2\n",
    "    \n",
    "    #update the sat observable\n",
    "    #3f0 now causing error\n",
    "    #sats[] = [Point3f0(eci_1_update[1,intorbit],eci_1_update[2,intorbit],eci_1_update[3,intorbit]), \n",
    "    #                Point3f0(eci_2_update[1,intorbit],eci_2_update[2,intorbit],eci_2_update[3,intorbit]),\n",
    "    #                Point3f0(eci_3_update[1,intorbit],eci_3_update[2,intorbit],eci_3_update[3,intorbit]),\n",
    "    #                Point3f0(eci_4_update[1,intorbit],eci_4_update[2,intorbit],eci_4_update[3,intorbit])]\n",
    "    \n",
    "    sats[] = [Point3f(eci_1_update[1,intorbit],eci_1_update[2,intorbit],eci_1_update[3,intorbit]), \n",
    "                   Point3f(eci_2_update[1,intorbit],eci_2_update[2,intorbit],eci_2_update[3,intorbit]),\n",
    "                   Point3f(eci_3_update[1,intorbit],eci_3_update[2,intorbit],eci_3_update[3,intorbit]),\n",
    "                   Point3f(eci_4_update[1,intorbit],eci_4_update[2,intorbit],eci_4_update[3,intorbit])]\n",
    "    \n",
    "    \n",
    "    #Find initial guess for TOA\n",
    "    centroid_guess = [(eci_1_update[1,intorbit]+eci_2_update[1,intorbit]+eci_3_update[1,intorbit]+eci_4_update[1,intorbit])/4,\n",
    "                      (eci_1_update[2,intorbit]+eci_2_update[2,intorbit]+eci_3_update[2,intorbit]+eci_4_update[2,intorbit])/4,\n",
    "                      (eci_1_update[3,intorbit]+eci_2_update[3,intorbit]+eci_3_update[3,intorbit]+eci_4_update[3,intorbit])/4] \n",
    "    \n",
    "    onearth = sECEFtoGEOC(centroid_guess, use_degrees = true)\n",
    "    geodetic = [onearth[1], onearth[2], 0]\n",
    "\n",
    "    #Guess\n",
    "    xyz = sGEOCtoECEF(geodetic, use_degrees = true)*1e-3\n",
    "    \n",
    "    #sat poses is in km. need to switch to meters to find elev angle\n",
    "    zenith_angles = SN.zenith(sat_poses*1e3, r0_tag_update[1:3]*1e3, 4)\n",
    "    \n",
    "    #Check if the satellites are in the horizon\n",
    "    \n",
    "    inhorizon = all(x->x<70, zenith_angles)\n",
    "    if inhorizon==false\n",
    "        println(\"Not in the horizon\")\n",
    "        #If the satellites are not in the horizon, do not plot anything\n",
    "        ellipse_xy1_TOA[] = [0]\n",
    "        ellipse_xy2_TOA[] = [0]\n",
    "        \n",
    "        ellipse_xz1_TOA[] = [0]\n",
    "        ellipse_xz2_TOA[] = [0]\n",
    "        \n",
    "        ellipse_yz1_TOA[] = [0]\n",
    "        ellipse_yz2_TOA[] = [0]\n",
    "        \n",
    "        ellipse_xy1_Doppler[] = [0]\n",
    "        ellipse_xy2_Doppler[] = [0]\n",
    "        \n",
    "        ellipse_xz1_Doppler[] = [0]\n",
    "        ellipse_xz2_Doppler[] = [0]\n",
    "        \n",
    "        ellipse_yz1_Doppler[] = [0]\n",
    "        ellipse_yz2_Doppler[] = [0]\n",
    "        \n",
    "        PDOP_TOA_text[] = \"N/A\"\n",
    "        PDOP_Doppler_text[] = \"N/A\"\n",
    "        \n",
    "    else \n",
    "        #Get the covariance of the satellites and measurments\n",
    "        \n",
    "        time_accuracy = time_acc*1e-9\n",
    "        \n",
    "        #time_acc = 1*10^time_acc_exp\n",
    "        freq_accuracy = freq_acc*1e-3\n",
    "        \n",
    "        P_TOA, P_Doppler = SN.get_P(time_accuracy, freq_accuracy, toa_units, doppler_units)\n",
    "                \n",
    "        #calculate the TOA covariance\n",
    "        \n",
    "        f2_final = f1 + (f2_observable*10^6)\n",
    "        \n",
    "        frequency = [f1, f2_final]\n",
    "        \n",
    "        PDOP_TOA, pose_covariance_TOA = SN.calculate_covariance_TOA(sat_poses, zenith_angles, xyz, P_TOA, r0_scaled_TOA_update, frequency, toa_units, tag_latitude)\n",
    "        \n",
    "        if PDOP_TOA == 0\n",
    "            \n",
    "            PDOP_TOA_text[] = \"ERROR\"\n",
    "            \n",
    "        else\n",
    "            \n",
    "            PDOP_TOA_rounded = round(PDOP_TOA, digits=3)\n",
    "            PDOP_TOA_text[] = string(PDOP_TOA_rounded)\n",
    "        \n",
    "            pose_covariance_result_TOA = pose_covariance_TOA\n",
    "            \n",
    "        end\n",
    "        \n",
    "        #calculate the Doppler covariance\n",
    "        PDOP_Doppler, pose_covariance_Doppler = SN.calculate_covariance_Doppler(pose1, pose2, pose3, pose4, zenith_angles, zdot, P_Doppler, r0_scaled_Doppler_update, frequency, doppler_units, tag_latitude)\n",
    "        \n",
    "        if PDOP_Doppler == 0\n",
    "            \n",
    "            PDOP_Doppler_text[] = \"ERROR\"\n",
    "            \n",
    "        else\n",
    "            \n",
    "            PDOP_Doppler_rounded = round(PDOP_Doppler, digits=3)\n",
    "            PDOP_Doppler_text[] = string(PDOP_Doppler_rounded)\n",
    "\n",
    "            pose_covariance_result_Doppler = pose_covariance_Doppler\n",
    "            \n",
    "        end\n",
    "        \n",
    "        pose_covariance_xz_TOA = [pose_covariance_result_TOA[1,1] pose_covariance_result_TOA[1,3];pose_covariance_result_TOA[3,1] pose_covariance_result_TOA[3,3]]\n",
    "        pose_covariance_xz_Doppler = [pose_covariance_result_Doppler[1,1] pose_covariance_result_Doppler[1,3];pose_covariance_result_Doppler[3,1] pose_covariance_result_Doppler[3,3]]\n",
    "        \n",
    "        #draw the covariance ellipses based off of the covariance matrix\n",
    "        \n",
    "        r_ellipse_xy_TOA = SN.draw_ellipse(pose_covariance_result_TOA[1:2, 1:2])\n",
    "        r_ellipse_xz_TOA = SN.draw_ellipse(pose_covariance_xz_TOA)\n",
    "        r_ellipse_yz_TOA = SN.draw_ellipse(pose_covariance_result_TOA[2:3, 2:3])\n",
    "        \n",
    "        r_ellipse_xy_Doppler = SN.draw_ellipse(pose_covariance_result_Doppler[1:2, 1:2])\n",
    "        r_ellipse_xz_Doppler = SN.draw_ellipse(pose_covariance_xz_Doppler)\n",
    "        r_ellipse_yz_Doppler = SN.draw_ellipse(pose_covariance_result_Doppler[2:3, 2:3])\n",
    "        \n",
    "        #update the ellipses observable\n",
    "        ellipse_xy1_TOA[] = r_ellipse_xy_TOA[:,1]\n",
    "        ellipse_xy2_TOA[] = r_ellipse_xy_TOA[:,2]\n",
    "        \n",
    "        ellipse_xz1_TOA[] = r_ellipse_xz_TOA[:,1]\n",
    "        ellipse_xz2_TOA[] = r_ellipse_xz_TOA[:,2]\n",
    "        \n",
    "        ellipse_yz1_TOA[] = r_ellipse_yz_TOA[:,1]\n",
    "        ellipse_yz2_TOA[] = r_ellipse_yz_TOA[:,2]\n",
    "        \n",
    "        ellipse_xy1_Doppler[] = r_ellipse_xy_Doppler[:,1]\n",
    "        ellipse_xy2_Doppler[] = r_ellipse_xy_Doppler[:,2]\n",
    "        \n",
    "        ellipse_xz1_Doppler[] = r_ellipse_xz_Doppler[:,1]\n",
    "        ellipse_xz2_Doppler[] = r_ellipse_xz_Doppler[:,2]\n",
    "        \n",
    "        ellipse_yz1_Doppler[] = r_ellipse_yz_Doppler[:,1]\n",
    "        ellipse_yz2_Doppler[] = r_ellipse_yz_Doppler[:,2]\n",
    "          \n",
    "    end\n",
    "    \n",
    "    #update the guess observable\n",
    "    guess[] = xyz\n",
    "    end\n",
    "    "
   ]
  },
  {
   "cell_type": "code",
   "execution_count": 11,
   "id": "509d52b1",
   "metadata": {},
   "outputs": [
    {
     "name": "stdout",
     "output_type": "stream",
     "text": [
      "Not in the horizon\n",
      "Not in the horizon\n",
      "Not in the horizon\n",
      "Not in the horizon\n",
      "Not in the horizon\n",
      "Not in the horizon\n",
      "Not in the horizon\n",
      "Not in the horizon\n",
      "Not in the horizon\n"
     ]
    },
    {
     "data": {
      "text/plain": [
       "200.0"
      ]
     },
     "execution_count": 11,
     "metadata": {},
     "output_type": "execute_result"
    }
   ],
   "source": [
    "#Initialize the sliders at these positions\n",
    "\n",
    "set_close_to!(lsgrid.sliders[1], 1200)\n",
    "set_close_to!(lsgrid.sliders[2], 2)\n",
    "set_close_to!(lsgrid.sliders[3], 10)\n",
    "set_close_to!(lsgrid.sliders[4], 3)\n",
    "set_close_to!(lsgrid.sliders[5], 1)\n",
    "set_close_to!(lsgrid.sliders[6], 10)\n",
    "set_close_to!(lsgrid.sliders[7], 100)\n",
    "set_close_to!(lsgrid.sliders[8], 0)\n",
    "set_close_to!(lsgrid.sliders[9], 200)"
   ]
  },
  {
   "cell_type": "code",
   "execution_count": 12,
   "id": "9fa1ccc5",
   "metadata": {},
   "outputs": [
    {
     "data": {
      "text/plain": [
       "Lines{Tuple{Vector{Point{3, Float32}}}}"
      ]
     },
     "execution_count": 12,
     "metadata": {},
     "output_type": "execute_result"
    }
   ],
   "source": [
    "#Plot tag position\n",
    "\n",
    "tagpose = meshscatter!(tag_xyzt, markersize = 150, color=:red, label = \"Tag\")\n",
    "\n",
    "#Plot the Guess\n",
    "guesspose = meshscatter!(guess, markersize = 150, color=:orange, label= \"Guess\")\n",
    "\n",
    "#Plot satellites\n",
    "satpose = meshscatter!(sats, markersize = 150, color=:yellow, label= \"Satellites\")\n",
    "\n",
    "#Plot orbit  of sat 1/2\n",
    "orbit12 = lines!(eci_1_x, eci_1_y, eci_1_z, color = :blue, label= \"Orbit 1/2\")\n",
    "\n",
    "#Plot orbit of sat 3/4\n",
    "orbit34 = lines!(eci_3_x, eci_3_y, eci_3_z, color = :purple, label= \"Orbit 3/4\")"
   ]
  },
  {
   "cell_type": "code",
   "execution_count": 13,
   "id": "90225187",
   "metadata": {},
   "outputs": [
    {
     "data": {
      "text/plain": [
       "false"
      ]
     },
     "execution_count": 13,
     "metadata": {},
     "output_type": "execute_result"
    }
   ],
   "source": [
    "#Create axes for covariance plots and include all titles\n",
    "ax1 = Axis(ellipse_fig[1, 1], xlabel = \"East (m)\", ylabel = \"North (m)\",\n",
    "    title = \"2 Sigma Confidence Bound\")\n",
    "ax2 = Axis(ellipse_fig[2, 1], xlabel = \"East (m)\", ylabel = \"Up (m)\",\n",
    "    title = \"2 Sigma Confidence Bound\")\n",
    "ax3 = Axis(ellipse_fig[1, 2], xlabel = \"North (m)\", ylabel = \"Up (m)\",\n",
    "    title = \"2 Sigma Confidence Bound\")\n",
    "ax4 = Axis(ellipse_fig[2, 2], title = \"Pose Standard Deviation\")\n",
    "\n",
    "hidedecorations!(ax4)"
   ]
  },
  {
   "cell_type": "code",
   "execution_count": 14,
   "id": "2a025cd2",
   "metadata": {},
   "outputs": [],
   "source": [
    "#set the limits on the covariance plots\n",
    "xlims!(ax1,-200, 200)\n",
    "xlims!(ax2, -200, 200)\n",
    "xlims!(ax3, -200, 200)\n",
    "\n",
    "ylims!(ax1, -200, 200)\n",
    "ylims!(ax2, -200, 200)\n",
    "ylims!(ax3, -200, 200)"
   ]
  },
  {
   "cell_type": "code",
   "execution_count": 15,
   "id": "3ecbc57f",
   "metadata": {},
   "outputs": [
    {
     "data": {
      "text/plain": [
       "Legend()"
      ]
     },
     "execution_count": 15,
     "metadata": {},
     "output_type": "execute_result"
    }
   ],
   "source": [
    "#Plot Covariance Ellipses\n",
    "ellipse1_TOA= lines!(ax1, ellipse_xy1_TOA, ellipse_xy2_TOA, label=\"TOA\")\n",
    "ellipse2_TOA = lines!(ax2, ellipse_xz1_TOA, ellipse_xz2_TOA, label = \"TOA\")\n",
    "ellipse3_TOA = lines!(ax3, ellipse_yz1_TOA, ellipse_yz2_TOA, label = \"TOA\")\n",
    "#text!(7, 0.38, text = L\"\\frac{\\sin(x)}{\\sqrt{x}}\", color = :black)\n",
    "\n",
    "ellipse1_Doppler= lines!(ax1, ellipse_xy1_Doppler, ellipse_xy2_Doppler, label = \"Doppler\")\n",
    "ellipse2_Doppler = lines!(ax2, ellipse_xz1_Doppler, ellipse_xz2_Doppler, label = \"Doppler\")\n",
    "ellipse3_Doppler = lines!(ax3, ellipse_yz1_Doppler, ellipse_yz2_Doppler, label = \"Doppler\")\n",
    "\n",
    "#text(ellipse_fig[2,2], PDOP_TOA_text, position=(-200, 0), align = (:center, :center))\n",
    "\n",
    "text!(ax4, PDOP_TOA_text, position=(0, 0), align = (:left, :center), textsize = 15)\n",
    "text!(ax4, PDOP_Doppler_text, position=(1, 0), align = (:right, :center), textsize = 15)\n",
    "text!(ax4, \"TOA\", position=(0, -1), align = (:left, :bottom), textsize = 20)\n",
    "text!(ax4, \"Doppler\", position=(1, -1), align = (:right, :bottom), textsize = 20)\n",
    "\n",
    "#text!(PDOP_TOA_text, position=(-200, 0))\n",
    "\n",
    "ellipse_fig[3, 1:2] = Legend(ellipse_fig, ax1, \"Methods\", framevisible = false)"
   ]
  },
  {
   "cell_type": "code",
   "execution_count": 16,
   "id": "fa51f448",
   "metadata": {},
   "outputs": [
    {
     "data": {
      "text/plain": [
       "GLMakie.Screen(...)"
      ]
     },
     "execution_count": 16,
     "metadata": {},
     "output_type": "execute_result"
    },
    {
     "name": "stdout",
     "output_type": "stream",
     "text": [
      "Not in the horizon\n",
      "Not in the horizon\n",
      "Not in the horizon\n",
      "Not in the horizon\n",
      "Not in the horizon\n",
      "Not in the horizon\n",
      "Not in the horizon\n",
      "Not in the horizon\n",
      "Not in the horizon\n",
      "Not in the horizon\n",
      "Not in the horizon\n",
      "Not in the horizon\n",
      "Not in the horizon\n",
      "Not in the horizon\n"
     ]
    },
    {
     "name": "stderr",
     "output_type": "stream",
     "text": [
      "Error in callback:\n",
      "UndefVarError: draw_ellipse not defined\n",
      "Stacktrace:\n",
      "  [1] \u001b[0m\u001b[1m(::var\"#7#9\")\u001b[22m\u001b[0m\u001b[1m(\u001b[22m::\u001b[0mFloat64, ::\u001b[0mVararg\u001b[90m{Float64, N} where N\u001b[39m\u001b[0m\u001b[1m)\u001b[22m\n",
      "\u001b[90m    @ \u001b[39m\u001b[35mMain\u001b[39m \u001b[90m./\u001b[39m\u001b[90;4mIn[10]:184\u001b[0m\n",
      "  [2] \u001b[0m\u001b[1m#invokelatest#2\u001b[22m\n",
      "\u001b[90m    @ \u001b[39m\u001b[90m./\u001b[39m\u001b[90;4messentials.jl:708\u001b[0m\u001b[90m [inlined]\u001b[39m\n",
      "  [3] \u001b[0m\u001b[1minvokelatest\u001b[22m\n",
      "\u001b[90m    @ \u001b[39m\u001b[90m./\u001b[39m\u001b[90;4messentials.jl:706\u001b[0m\u001b[90m [inlined]\u001b[39m\n",
      "  [4] \u001b[0m\u001b[1m#15\u001b[22m\n",
      "\u001b[90m    @ \u001b[39m\u001b[90m~/.julia/packages/Observables/ynr7h/src/\u001b[39m\u001b[90;4mObservables.jl:393\u001b[0m\u001b[90m [inlined]\u001b[39m\n",
      "  [5] \u001b[0m\u001b[1m(::Observables.var\"#callback#13\"{Observables.var\"#15#16\"{var\"#7#9\", Observable{Vector{Float64}}}, NTuple{9, Observable{Any}}})\u001b[22m\u001b[0m\u001b[1m(\u001b[22m\u001b[90mx\u001b[39m::\u001b[0mAny\u001b[0m\u001b[1m)\u001b[22m\n",
      "\u001b[90m    @ \u001b[39m\u001b[36mObservables\u001b[39m \u001b[90m~/.julia/packages/Observables/ynr7h/src/\u001b[39m\u001b[90;4mObservables.jl:339\u001b[0m\n",
      "  [6] \u001b[0m\u001b[1m#invokelatest#2\u001b[22m\n",
      "\u001b[90m    @ \u001b[39m\u001b[90m./\u001b[39m\u001b[90;4messentials.jl:708\u001b[0m\u001b[90m [inlined]\u001b[39m\n",
      "  [7] \u001b[0m\u001b[1minvokelatest\u001b[22m\n",
      "\u001b[90m    @ \u001b[39m\u001b[90m./\u001b[39m\u001b[90;4messentials.jl:706\u001b[0m\u001b[90m [inlined]\u001b[39m\n",
      "  [8] \u001b[0m\u001b[1mnotify\u001b[22m\n",
      "\u001b[90m    @ \u001b[39m\u001b[90m~/.julia/packages/Observables/ynr7h/src/\u001b[39m\u001b[90;4mObservables.jl:143\u001b[0m\u001b[90m [inlined]\u001b[39m\n",
      "  [9] "
     ]
    },
    {
     "name": "stdout",
     "output_type": "stream",
     "text": [
      "Not in the horizon\n"
     ]
    },
    {
     "name": "stderr",
     "output_type": "stream",
     "text": [
      "\u001b[0m\u001b[1msetindex!\u001b[22m\u001b[0m\u001b[1m(\u001b[22m\u001b[90mobservable\u001b[39m::\u001b[0mObservable, \u001b[90mval\u001b[39m::\u001b[0mAny\u001b[0m\u001b[1m)\u001b[22m\n",
      "\u001b[90m    @ \u001b[39m\u001b[36mObservables\u001b[39m \u001b[90m~/.julia/packages/Observables/ynr7h/src/\u001b[39m\u001b[90;4mObservables.jl:86\u001b[0m\n",
      " [10] \u001b[0m\u001b[1m(::Makie.var\"#1466#1482\"{Slider, Observable{Any}})\u001b[22m\u001b[0m\u001b[1m(\u001b[22m\u001b[90mi\u001b[39m::\u001b[0mInt64\u001b[0m\u001b[1m)\u001b[22m\n",
      "\u001b[90m    @ \u001b[39m\u001b[32mMakie\u001b[39m \u001b[90m~/.julia/packages/Makie/Ppzqh/src/makielayout/blocks/\u001b[39m\u001b[90;4mslider.jl:63\u001b[0m\n",
      " [11] \u001b[0m\u001b[1m#invokelatest#2\u001b[22m\n",
      "\u001b[90m    @ \u001b[39m\u001b[90m./\u001b[39m\u001b[90;4messentials.jl:708\u001b[0m\u001b[90m [inlined]\u001b[39m\n",
      " [12] \u001b[0m\u001b[1minvokelatest\u001b[22m\n",
      "\u001b[90m    @ \u001b[39m\u001b[90m./\u001b[39m\u001b[90;4messentials.jl:706\u001b[0m\u001b[90m [inlined]\u001b[39m\n",
      " [13] \u001b[0m\u001b[1mnotify\u001b[22m\n",
      "\u001b[90m    @ \u001b[39m\u001b[90m~/.julia/packages/Observables/ynr7h/src/\u001b[39m\u001b[90;4mObservables.jl:143\u001b[0m\u001b[90m [inlined]\u001b[39m\n",
      " [14] \u001b[0m\u001b[1msetindex!\u001b[22m\u001b[0m\u001b[1m(\u001b[22m\u001b[90mobservable\u001b[39m::\u001b[0mObservable, \u001b[90mval\u001b[39m::\u001b[0mAny\u001b[0m\u001b[1m)\u001b[22m\n",
      "\u001b[90m    @ \u001b[39m\u001b[36mObservables\u001b[39m \u001b[90m~/.julia/packages/Observables/ynr7h/src/\u001b[39m\u001b[90;4mObservables.jl:86\u001b[0m\n",
      " [15] \u001b[0m\u001b[1m(::Makie.var\"#1471#1487\"{Slider, Observable{Float64}, Observable{Bool}, Observable{Int64}, Observable{Vector{Point{2, Float32}}}, Observable{Any}})\u001b[22m\u001b[0m\u001b[1m(\u001b[22m\u001b[90mevent\u001b[39m::\u001b[0mMouseEvent\u001b[0m\u001b[1m)\u001b[22m\n",
      "\u001b[90m    @ \u001b[39m\u001b[32mMakie\u001b[39m \u001b[90m~/.julia/packages/Makie/Ppzqh/src/makielayout/blocks/\u001b[39m\u001b[90;4mslider.jl:110\u001b[0m\n",
      " [16] \u001b[0m\u001b[1m(::Makie.var\"#1057#1058\"{Makie.var\"#1471#1487\"{Slider, Observable{Float64}, Observable{Bool}, Observable{Int64}, Observable{Vector{Point{2, Float32}}}, Observable{Any}}})\u001b[22m\u001b[0m\u001b[1m(\u001b[22m\u001b[90mevent\u001b[39m::\u001b[0mMouseEvent\u001b[0m\u001b[1m)\u001b[22m\n",
      "\u001b[90m    @ \u001b[39m\u001b[32mMakie\u001b[39m \u001b[90m~/.julia/packages/Makie/Ppzqh/src/makielayout/\u001b[39m\u001b[90;4mmousestatemachine.jl:86\u001b[0m\n",
      " [17] \u001b[0m\u001b[1m#invokelatest#2\u001b[22m\n",
      "\u001b[90m    @ \u001b[39m\u001b[90m./\u001b[39m\u001b[90;4messentials.jl:708\u001b[0m\u001b[90m [inlined]\u001b[39m\n",
      " [18] \u001b[0m\u001b[1minvokelatest\u001b[22m\n",
      "\u001b[90m    @ \u001b[39m\u001b[90m./\u001b[39m\u001b[90;4messentials.jl:706\u001b[0m\u001b[90m [inlined]\u001b[39m\n",
      " [19] \u001b[0m\u001b[1mnotify\u001b[22m\n",
      "\u001b[90m    @ \u001b[39m\u001b[90m~/.julia/packages/Observables/ynr7h/src/\u001b[39m\u001b[90;4mObservables.jl:143\u001b[0m\u001b[90m [inlined]\u001b[39m\n",
      " [20] \u001b[0m\u001b[1msetindex!\u001b[22m\n",
      "\u001b[90m    @ \u001b[39m\u001b[90m~/.julia/packages/Observables/ynr7h/src/\u001b[39m\u001b[90;4mObservables.jl:86\u001b[0m\u001b[90m [inlined]\u001b[39m\n",
      " [21] \u001b[0m\u001b[1m(::Makie.var\"#1099#1101\"{Scene, Makie.var\"#is_mouse_over_relevant_area#1098\"{Scene, Observable{GeometryBasics.HyperRectangle{2, Float32}}}, Base.RefValue{Float64}, Base.RefValue{Bool}, Base.RefValue{Bool}, Base.RefValue{Union{Nothing, Makie.Mouse.Button}}, Base.RefValue{Bool}, Base.RefValue{Point{2, Float32}}, Base.RefValue{Point{2, Float32}}, Base.RefValue{Makie.Mouse.Action}, Observable{MouseEvent}, Module})\u001b[22m\u001b[0m\u001b[1m(\u001b[22m\u001b[90mmp\u001b[39m::\u001b[0mTuple\u001b[90m{Float64, Float64}\u001b[39m\u001b[0m\u001b[1m)\u001b[22m\n",
      "\u001b[90m    @ \u001b[39m\u001b[32mMakie\u001b[39m \u001b[90m~/.julia/packages/Makie/Ppzqh/src/makielayout/\u001b[39m\u001b[90;4mmousestatemachine.jl:169\u001b[0m\n",
      " [22] \u001b[0m\u001b[1m#invokelatest#2\u001b[22m\n",
      "\u001b[90m    @ \u001b[39m\u001b[90m./\u001b[39m\u001b[90;4messentials.jl:708\u001b[0m\u001b[90m [inlined]\u001b[39m\n",
      " [23] \u001b[0m\u001b[1minvokelatest\u001b[22m\n",
      "\u001b[90m    @ \u001b[39m\u001b[90m./\u001b[39m\u001b[90;4messentials.jl:706\u001b[0m\u001b[90m [inlined]\u001b[39m\n",
      " [24] \u001b[0m\u001b[1mnotify\u001b[22m\n",
      "\u001b[90m    @ \u001b[39m\u001b[90m~/.julia/packages/Observables/ynr7h/src/\u001b[39m\u001b[90;4mObservables.jl:143\u001b[0m\u001b[90m [inlined]\u001b[39m\n",
      " [25] \u001b[0m\u001b[1msetindex!\u001b[22m\n",
      "\u001b[90m    @ \u001b[39m\u001b[90m~/.julia/packages/Observables/ynr7h/src/\u001b[39m\u001b[90;4mObservables.jl:86\u001b[0m\u001b[90m [inlined]\u001b[39m\n",
      " [26] \u001b[0m\u001b[1m(::GLMakie.MousePositionUpdater)\u001b[22m\u001b[0m\u001b[1m(\u001b[22m\u001b[90m#unused#\u001b[39m::\u001b[0mNothing\u001b[0m\u001b[1m)\u001b[22m\n",
      "\u001b[90m    @ \u001b[39m\u001b[33mGLMakie\u001b[39m \u001b[90m~/.julia/packages/GLMakie/K6iJk/src/\u001b[39m\u001b[90;4mevents.jl:6\u001b[0m\n",
      " [27] \u001b[0m\u001b[1m#invokelatest#2\u001b[22m\n",
      "\u001b[90m    @ \u001b[39m\u001b[90m./\u001b[39m\u001b[90;4messentials.jl:708\u001b[0m\u001b[90m [inlined]\u001b[39m\n",
      " [28] \u001b[0m\u001b[1minvokelatest\u001b[22m\n",
      "\u001b[90m    @ \u001b[39m\u001b[90m./\u001b[39m\u001b[90;4messentials.jl:706\u001b[0m\u001b[90m [inlined]\u001b[39m\n",
      " [29] \u001b[0m\u001b[1mnotify\u001b[22m\n",
      "\u001b[90m    @ \u001b[39m\u001b[90m~/.julia/packages/Observables/ynr7h/src/\u001b[39m\u001b[90;4mObservables.jl:143\u001b[0m\u001b[90m [inlined]\u001b[39m\n",
      " [30] \u001b[0m\u001b[1mpollevents\u001b[22m\u001b[0m\u001b[1m(\u001b[22m\u001b[90mscreen\u001b[39m::\u001b[0mGLMakie.Screen\u001b[0m\u001b[1m)\u001b[22m\n",
      "\u001b[90m    @ \u001b[39m\u001b[33mGLMakie\u001b[39m \u001b[90m~/.julia/packages/GLMakie/K6iJk/src/\u001b[39m\u001b[90;4mscreen.jl:49\u001b[0m\n",
      " [31] \u001b[0m\u001b[1mfps_renderloop\u001b[22m\u001b[0m\u001b[1m(\u001b[22m\u001b[90mscreen\u001b[39m::\u001b[0mGLMakie.Screen, \u001b[90mframerate\u001b[39m::\u001b[0mFloat64\u001b[0m\u001b[1m)\u001b[22m\n",
      "\u001b[90m    @ \u001b[39m\u001b[33mGLMakie\u001b[39m \u001b[90m~/.julia/packages/GLMakie/K6iJk/src/\u001b[39m\u001b[90;4mrendering.jl:20\u001b[0m\n",
      " [32] \u001b[0m\u001b[1mrenderloop\u001b[22m\u001b[0m\u001b[1m(\u001b[22m\u001b[90mscreen\u001b[39m::\u001b[0mGLMakie.Screen; \u001b[90mframerate\u001b[39m::\u001b[0mFloat64\u001b[0m\u001b[1m)\u001b[22m\n",
      "\u001b[90m    @ \u001b[39m\u001b[33mGLMakie\u001b[39m \u001b[90m~/.julia/packages/GLMakie/K6iJk/src/\u001b[39m\u001b[90;4mrendering.jl:46\u001b[0m\n",
      " [33] \u001b[0m\u001b[1mrenderloop\u001b[22m\u001b[0m\u001b[1m(\u001b[22m\u001b[90mscreen\u001b[39m::\u001b[0mGLMakie.Screen\u001b[0m\u001b[1m)\u001b[22m\n",
      "\u001b[90m    @ \u001b[39m\u001b[33mGLMakie\u001b[39m \u001b[90m~/.julia/packages/GLMakie/K6iJk/src/\u001b[39m\u001b[90;4mrendering.jl:39\u001b[0m\n",
      " [34] \u001b[0m\u001b[1m(::GLMakie.var\"#126#128\"{GLMakie.Screen})\u001b[22m\u001b[0m\u001b[1m(\u001b[22m\u001b[0m\u001b[1m)\u001b[22m\n",
      "\u001b[90m    @ \u001b[39m\u001b[33mGLMakie\u001b[39m \u001b[90m./\u001b[39m\u001b[90;4mtask.jl:411\u001b[0m\n"
     ]
    }
   ],
   "source": [
    "display(fig)"
   ]
  },
  {
   "cell_type": "code",
   "execution_count": null,
   "id": "5cacec97",
   "metadata": {},
   "outputs": [],
   "source": []
  }
 ],
 "metadata": {
  "@webio": {
   "lastCommId": "375ced22ad99410e8798cf2e51d891d1",
   "lastKernelId": "edb65a0e-b9c4-4b1f-8c1a-6eb6bca7893d"
  },
  "kernelspec": {
   "display_name": "Julia 1.6.5",
   "language": "julia",
   "name": "julia-1.6"
  },
  "language_info": {
   "file_extension": ".jl",
   "mimetype": "application/julia",
   "name": "julia",
   "version": "1.6.5"
  }
 },
 "nbformat": 4,
 "nbformat_minor": 5
}
